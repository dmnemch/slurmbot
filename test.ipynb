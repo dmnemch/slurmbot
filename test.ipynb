{
 "cells": [
  {
   "cell_type": "code",
   "execution_count": null,
   "metadata": {},
   "outputs": [],
   "source": [
    "! pip install pyTelegramBotAPI"
   ]
  },
  {
   "cell_type": "code",
   "execution_count": null,
   "metadata": {},
   "outputs": [],
   "source": []
  },
  {
   "cell_type": "code",
   "execution_count": 102,
   "metadata": {},
   "outputs": [
    {
     "name": "stdout",
     "output_type": "stream",
     "text": [
      "[]\n",
      "[]\n",
      "[]\n",
      "[]\n",
      "['<code>23677490</code> COMPLETED with exit code: 0:0', '<code>23677491</code> COMPLETED with exit code: 0:0', '<code>23677492</code> COMPLETED with exit code: 0:0']\n",
      "[]\n",
      "[]\n",
      "[]\n",
      "[]\n",
      "[]\n",
      "[]\n",
      "[]\n",
      "[]\n",
      "['<code>23677493</code> COMPLETED with exit code: 0:0']\n",
      "['<code>23677494</code> COMPLETED with exit code: 0:0', '<code>23677495</code> COMPLETED with exit code: 0:0']\n",
      "[]\n",
      "[]\n",
      "[]\n"
     ]
    },
    {
     "ename": "KeyboardInterrupt",
     "evalue": "",
     "output_type": "error",
     "traceback": [
      "\u001b[0;31m---------------------------------------------------------------------------\u001b[0m",
      "\u001b[0;31mKeyboardInterrupt\u001b[0m                         Traceback (most recent call last)",
      "Cell \u001b[0;32mIn[102], line 50\u001b[0m\n\u001b[1;32m     47\u001b[0m             send_message(messages, token, chat)\n\u001b[1;32m     48\u001b[0m             time\u001b[38;5;241m.\u001b[39msleep(sleep_time)\n\u001b[0;32m---> 50\u001b[0m \u001b[43mrun_bot\u001b[49m\u001b[43m(\u001b[49m\u001b[43mjobs\u001b[49m\u001b[43m \u001b[49m\u001b[38;5;241;43m=\u001b[39;49m\u001b[43m \u001b[49m\u001b[43m{\u001b[49m\u001b[43m}\u001b[49m\u001b[43m,\u001b[49m\u001b[43m \u001b[49m\u001b[43mchat\u001b[49m\u001b[38;5;241;43m=\u001b[39;49m\u001b[38;5;124;43m\"\u001b[39;49m\u001b[38;5;124;43m802417074\u001b[39;49m\u001b[38;5;124;43m\"\u001b[39;49m\u001b[43m,\u001b[49m\u001b[43m \u001b[49m\u001b[43mtoken\u001b[49m\u001b[38;5;241;43m=\u001b[39;49m\u001b[38;5;124;43m\"\u001b[39;49m\u001b[38;5;124;43m5323971740:AAEjaIQ3mrBNcYazOdRSPvE2KzOPxZbBYVI\u001b[39;49m\u001b[38;5;124;43m\"\u001b[39;49m\u001b[43m)\u001b[49m\n",
      "Cell \u001b[0;32mIn[102], line 43\u001b[0m, in \u001b[0;36mrun_bot\u001b[0;34m(jobs, token, chat, mode, sleep_time)\u001b[0m\n\u001b[1;32m     41\u001b[0m             messages \u001b[38;5;241m=\u001b[39m []\n\u001b[1;32m     42\u001b[0m         old_flag \u001b[38;5;241m=\u001b[39m new_flag\n\u001b[0;32m---> 43\u001b[0m         \u001b[43mtime\u001b[49m\u001b[38;5;241;43m.\u001b[39;49m\u001b[43msleep\u001b[49m\u001b[43m(\u001b[49m\u001b[43msleep_time\u001b[49m\u001b[43m)\u001b[49m\n\u001b[1;32m     44\u001b[0m \u001b[38;5;28;01melif\u001b[39;00m mode \u001b[38;5;241m==\u001b[39m \u001b[38;5;124m'\u001b[39m\u001b[38;5;124msingle\u001b[39m\u001b[38;5;124m'\u001b[39m:\n\u001b[1;32m     45\u001b[0m     \u001b[38;5;28;01mwhile\u001b[39;00m \u001b[38;5;28;01mTrue\u001b[39;00m:\n",
      "\u001b[0;31mKeyboardInterrupt\u001b[0m: "
     ]
    }
   ],
   "source": [
    "import subprocess\n",
    "import time\n",
    "import telebot\n",
    "import yaml\n",
    "\n",
    "def send_message(messages, token, chat):\n",
    "    if not messages:\n",
    "        telebot.TeleBot(token).send_message(chat_id=chat, text='Error: message is empty')\n",
    "    for i in range(-(-len(messages) // 100)):\n",
    "        message = \"\\n\".join(messages[i*100:i+1*100])\n",
    "        telebot.TeleBot(token).send_message(chat_id=chat, text=message, parse_mode='HTML')\n",
    "\n",
    "def get_finished_jobs(jobs):\n",
    "    messages = []\n",
    "    flag = False\n",
    "    out = subprocess.run('sacct -n --format=\"jobid,jobname,state,exitcode\"', shell=True, capture_output=True).stdout.decode('utf-8').strip().split(\"\\n\")\n",
    "    for line in out:\n",
    "        job, name, state, err = line.split()\n",
    "        if \".\" in job: \n",
    "            continue\n",
    "        if state in ['COMPLETED', 'FAILED']:\n",
    "            if job not in jobs:\n",
    "                message = f\"<code>{job}</code> {name + \" \" if not name == 'None' else ''}{state} with exit code: {err}\"\n",
    "                messages.append(message)\n",
    "                jobs[job] = state\n",
    "        elif state in ['RUNNING', 'PENDING']:\n",
    "            flag = True\n",
    "    return messages, flag\n",
    "\n",
    "def run_bot(jobs, token, chat, mode='batch', sleep_time=5):\n",
    "    telebot.TeleBot(token).send_message(chat_id=chat, text=f\"Bot is running in {mode} mode with {sleep_time}s latency\")\n",
    "    _ = get_finished_jobs(jobs)\n",
    "    messages = []\n",
    "    old_flag = False\n",
    "    if mode == 'batch':\n",
    "        while True:\n",
    "            new_messages, new_flag = get_finished_jobs(jobs)\n",
    "            print(new_messages)    \n",
    "            messages += new_messages\n",
    "            if not new_flag and old_flag:\n",
    "                send_message(messages, token, chat)\n",
    "                messages = []\n",
    "            old_flag = new_flag\n",
    "            time.sleep(sleep_time)\n",
    "    elif mode == 'single':\n",
    "        while True:\n",
    "            messages, new_flag = get_finished_jobs(jobs)\n",
    "            send_message(messages, token, chat)\n",
    "            time.sleep(sleep_time)\n",
    "        \n",
    "run_bot(jobs = {}, chat=\"802417074\", token=\"5323971740:AAEjaIQ3mrBNcYazOdRSPvE2KzOPxZbBYVI\")"
   ]
  }
 ],
 "metadata": {
  "kernelspec": {
   "display_name": "jpt",
   "language": "python",
   "name": "python3"
  },
  "language_info": {
   "codemirror_mode": {
    "name": "ipython",
    "version": 3
   },
   "file_extension": ".py",
   "mimetype": "text/x-python",
   "name": "python",
   "nbconvert_exporter": "python",
   "pygments_lexer": "ipython3",
   "version": "3.12.3"
  }
 },
 "nbformat": 4,
 "nbformat_minor": 2
}
